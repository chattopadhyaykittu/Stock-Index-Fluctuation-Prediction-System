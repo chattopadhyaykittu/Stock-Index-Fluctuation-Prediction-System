{
 "cells": [
  {
   "cell_type": "code",
   "execution_count": 1,
   "metadata": {},
   "outputs": [],
   "source": [
    "import requests\n",
    "from bs4 import BeautifulSoup\n",
    "from datetime import date, datetime, timedelta\n",
    "\n",
    "today = date.today()"
   ]
  },
  {
   "cell_type": "code",
   "execution_count": 2,
   "metadata": {},
   "outputs": [],
   "source": [
    "r1 = requests.get('https://www.moneycontrol.com/indian-indices/nifty-50-9.html')\n",
    "coverpage = r1.content"
   ]
  },
  {
   "cell_type": "code",
   "execution_count": 3,
   "metadata": {},
   "outputs": [],
   "source": [
    "#soup = BeautifulSoup('https://www.nseindia.com/market-data/live-equity-market?symbol=NIFTY%2050', 'html5lib')"
   ]
  },
  {
   "cell_type": "code",
   "execution_count": 4,
   "metadata": {},
   "outputs": [],
   "source": [
    "soup1 = BeautifulSoup(coverpage, 'html5lib')"
   ]
  },
  {
   "cell_type": "code",
   "execution_count": 5,
   "metadata": {},
   "outputs": [],
   "source": [
    "NIFTY_50_news = soup1.find_all('tr', id='ind_9')"
   ]
  },
  {
   "cell_type": "code",
   "execution_count": 6,
   "metadata": {},
   "outputs": [
    {
     "data": {
      "text/plain": [
       "[<tr class=\"bold-text lightblue-row indices_list active1\" id=\"ind_9\" onclick=\"indices_chart_val('1d','9','chart_data1')\">\n",
       "             <td><span class=\"semibld\"><a href=\"https://www.moneycontrol.com/indian-indices/nifty-50-9.html\" target=\"_blank\">NIFTY 50</a></span></td>\n",
       "             <td>17,475.65</td>\n",
       "             <td><span class=\"red_color\">-54.65</span></td>\n",
       "             <td><span class=\"red_color\">-0.31%</span></td>\n",
       "         </tr>]"
      ]
     },
     "execution_count": 6,
     "metadata": {},
     "output_type": "execute_result"
    }
   ],
   "source": [
    "NIFTY_50_news"
   ]
  },
  {
   "cell_type": "code",
   "execution_count": 7,
   "metadata": {},
   "outputs": [],
   "source": [
    "nifty_result = NIFTY_50_news[0].get_text()"
   ]
  },
  {
   "cell_type": "code",
   "execution_count": 8,
   "metadata": {},
   "outputs": [
    {
     "data": {
      "text/plain": [
       "['',\n",
       " '            NIFTY 50',\n",
       " '            17,475.65',\n",
       " '            -54.65',\n",
       " '            -0.31%',\n",
       " '        ']"
      ]
     },
     "execution_count": 8,
     "metadata": {},
     "output_type": "execute_result"
    }
   ],
   "source": [
    "new_result = list(map(str,nifty_result.split(\"\\n\")))\n",
    "new_result"
   ]
  },
  {
   "cell_type": "code",
   "execution_count": 9,
   "metadata": {},
   "outputs": [
    {
     "data": {
      "text/plain": [
       "['', 'NIFTY 50', '17,475.65', '-54.65', '-0.31%', '']"
      ]
     },
     "execution_count": 9,
     "metadata": {},
     "output_type": "execute_result"
    }
   ],
   "source": [
    "for itr in range(len(new_result)):\n",
    "    new_result[itr] = new_result[itr].strip()\n",
    "new_result"
   ]
  },
  {
   "cell_type": "code",
   "execution_count": 10,
   "metadata": {},
   "outputs": [],
   "source": [
    "result_dict={'Index':'','Value':0,'Change':0,'Percent_Change':0}"
   ]
  },
  {
   "cell_type": "code",
   "execution_count": 11,
   "metadata": {},
   "outputs": [
    {
     "data": {
      "text/plain": [
       "{'Index': 'NIFTY 50',\n",
       " 'Value': '17,475.65',\n",
       " 'Change': '-54.65',\n",
       " 'Percent_Change': '-0.31%'}"
      ]
     },
     "execution_count": 11,
     "metadata": {},
     "output_type": "execute_result"
    }
   ],
   "source": [
    "result_dict['Index'] = new_result[1]\n",
    "result_dict['Value'] = new_result[2]\n",
    "result_dict['Change'] = new_result[3]\n",
    "result_dict['Percent_Change'] = new_result[4]\n",
    "result_dict"
   ]
  },
  {
   "cell_type": "code",
   "execution_count": 12,
   "metadata": {},
   "outputs": [],
   "source": [
    "import json\n",
    "with open(r'C:\\Users\\sreer\\Big data project\\Stock_results\\NSE_{}.json'.format(today), 'w') as fp:\n",
    "    json.dump(result_dict, fp)"
   ]
  }
 ],
 "metadata": {
  "kernelspec": {
   "display_name": "Python 3",
   "language": "python",
   "name": "python3"
  },
  "language_info": {
   "codemirror_mode": {
    "name": "ipython",
    "version": 3
   },
   "file_extension": ".py",
   "mimetype": "text/x-python",
   "name": "python",
   "nbconvert_exporter": "python",
   "pygments_lexer": "ipython3",
   "version": "3.7.6"
  }
 },
 "nbformat": 4,
 "nbformat_minor": 4
}
