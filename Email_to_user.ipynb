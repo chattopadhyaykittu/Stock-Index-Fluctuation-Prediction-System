{
 "cells": [
  {
   "cell_type": "code",
   "execution_count": 1,
   "metadata": {},
   "outputs": [],
   "source": [
    "%run Configuration.ipynb"
   ]
  },
  {
   "cell_type": "code",
   "execution_count": 2,
   "metadata": {},
   "outputs": [],
   "source": [
    "from datetime import date, datetime, timedelta\n",
    "import os\n",
    "today = date.today()"
   ]
  },
  {
   "cell_type": "code",
   "execution_count": 3,
   "metadata": {},
   "outputs": [],
   "source": [
    "import mailchimp_marketing as MailchimpMarketing\n",
    "from mailchimp_marketing.api_client import ApiClientError\n",
    "\n",
    "try:\n",
    "  client = MailchimpMarketing.Client()\n",
    "  client.set_config({\n",
    "    \"api_key\": os.getenv('Mailchimp_API_Key'),\n",
    "    \"server\": os.getenv('Mailchimp_server')\n",
    "  })\n",
    "\n",
    "  response = client.lists.get_list_members_info(os.getenv('Mailchimp_list_id'))\n",
    "  #print(response)\n",
    "except ApiClientError as error:\n",
    "  print(\"Error: {}\".format(error.text))"
   ]
  },
  {
   "cell_type": "code",
   "execution_count": 5,
   "metadata": {},
   "outputs": [],
   "source": [
    "users_email_address = []\n",
    "for itr in range(len(response['members'])):\n",
    "    users_email_address.append(response['members'][itr]['email_address'])"
   ]
  },
  {
   "cell_type": "code",
   "execution_count": 7,
   "metadata": {},
   "outputs": [],
   "source": [
    "users_email = {\"user_email\":users_email_address}"
   ]
  },
  {
   "cell_type": "code",
   "execution_count": 8,
   "metadata": {},
   "outputs": [],
   "source": [
    "import json\n",
    "with open(r'C:\\Users\\sreer\\Big data project\\Stock_results\\NSE_{}.json'.format(today), 'r') as fp:\n",
    "    NSE_data = json.load(fp)"
   ]
  },
  {
   "cell_type": "code",
   "execution_count": 9,
   "metadata": {},
   "outputs": [],
   "source": [
    "with open(r'C:\\Users\\sreer\\Big data project\\Stock_results\\Sentiment_result_{}.json'.format(today), 'r') as fp:\n",
    "    Sentiment_result = json.load(fp)"
   ]
  },
  {
   "cell_type": "code",
   "execution_count": 10,
   "metadata": {},
   "outputs": [],
   "source": [
    "import smtplib\n",
    "from email.message import EmailMessage\n",
    "from email.mime.text import MIMEText\n",
    "from email.utils import make_msgid\n",
    "import mimetypes\n",
    "from email.mime.multipart import MIMEMultipart\n",
    "EMAIL_ADDRESS = os.getenv('email_address')\n",
    "EMAIL_PASSWORD = os.getenv('email_password')"
   ]
  },
  {
   "cell_type": "code",
   "execution_count": 11,
   "metadata": {},
   "outputs": [],
   "source": [
    "msg = EmailMessage()\n",
    "msg['Subject'] = 'Stock Mail Newsletter dated {}'.format(today)\n",
    "msg['From'] = EMAIL_ADDRESS \n",
    "msg['To'] = users_email_address\n",
    "\n",
    "msg.set_content(\"The predicted trend of NIFTY-50 for today is\", Sentiment_result[\"Sentiment_type_of_the_day\"])\n",
    "image_cid = make_msgid(domain='stock_mail.com')\n",
    "msg.add_alternative(f'''\\\n",
    "<!DOCTYPE html>\n",
    "<html lang=\"en\" dir=\"ltr\">\n",
    "  <head>\n",
    "    <meta charset=\"utf-8\">\n",
    "    <title>Stock Mail</title>\n",
    "    <link rel=\"preconnect\" href=\"https://fonts.googleapis.com\">\n",
    "    <link rel=\"preconnect\" href=\"https://fonts.gstatic.com\" crossorigin>\n",
    "    <link href=\"https://fonts.googleapis.com/css2?family=Montserrat:wght@100;500&display=swap\" rel=\"stylesheet\">\n",
    "  </head>\n",
    "  <body style=\"font-family: 'Montserrat', sans-serif;\">\n",
    "    <div class=\"d1\" >\n",
    "      <img class=\"stock_mail_logo\" src=\"cid:{image_cid[1:-1]}\" alt=\"stock_mail_logo\" style=\"  display: block;margin-left: auto;margin-right: auto;width: 25%;\">\n",
    "    </div>\n",
    "    <div class=\"d2\" style=\"text-align: center;font-weight: bold;\">\n",
    "      <h1>Stock Mail</h1>\n",
    "      \n",
    "    </div>\n",
    "    <div class=\"d3\">\n",
    "    <p>Dear Subscriber,</p>\n",
    "      <p>Please find the yesterday's NSE NIFTY-50 details below: </p>\n",
    "      <table id= \"NSE\" style=\"border-collapse:collapse;border:1px solid black;text-align:center;table-layout: fixed;width: 500px;\">\n",
    "        <thead style=\"border:1px solid black;text-align:center;\">\n",
    "          <th style=\"border:1px solid black;text-align:center;\">Index</th>\n",
    "          <th style=\"border:1px solid black;text-align:center;\">Value</th>\n",
    "          <th style=\"border:1px solid black;text-align:center;\">Change</th>\n",
    "          <th style=\"border:1px solid black;text-align:center;\">Percent Change</th>\n",
    "        </thead>\n",
    "<tbody>\n",
    "<tr style=\"border:1px solid black;text-align:center;\">\n",
    "  <td style=\"border:1px solid black;text-align:center;\">{NSE_data[\"Index\"]}</td>\n",
    "  <td style=\"border:1px solid black;text-align:center;\">{NSE_data[\"Value\"]}</td>\n",
    "  <td style=\"border:1px solid black;text-align:center;\">{NSE_data[\"Change\"]}</td>\n",
    "  <td style=\"border:1px solid black;text-align:center;\">{NSE_data[\"Percent_Change\"]}</td>\n",
    "</tr>\n",
    "</tbody>\n",
    "      </table>\n",
    "    </div>\n",
    "<div class=\"d4\">\n",
    "  <p>Generally, the stock market is so volatile. We could reduce our risk of investing by predicting the  trend.</p><br>\n",
    "  <p>The trend of stock index is heavily decided by the news that circulate right now.</p><br>\n",
    "  <p>Stock Mail provides an exclusive information on the trend for the data. </p><br>\n",
    "</div>\n",
    "<div class=\"d5\">\n",
    "  <p>The predicted trend of NIFTY-50 for today is <strong>{Sentiment_result[\"Sentiment_type_of_the_day\"]}</strong></p>\n",
    "  <p>For more information on the news prediction result click on this link </p><a href=\"https://storage.googleapis.com/stock_mail/Headlines_db/Headlines_{today}.csv\">https://storage.googleapis.com/stock_mail/Headlines_db/Headlines_{today}.csv</a>\n",
    "    <br>\n",
    "  <br><br>\n",
    "  <p>Cheers,</p>\n",
    "  <p>Stock Mail Team</p>\n",
    "  \n",
    "</div>\n",
    "  </body>\n",
    "</html>\n",
    "''', subtype='html')\n",
    "with open('market_news.jpg', 'rb') as img:\n",
    "\n",
    "    # know the Content-Type of the image\n",
    "    maintype, subtype = mimetypes.guess_type(img.name)[0].split('/')\n",
    "\n",
    "    # attach it\n",
    "    msg.get_payload()[1].add_related(img.read(), \n",
    "                                         maintype=maintype, \n",
    "                                         subtype=subtype, \n",
    "                                         cid=image_cid)\n",
    "with smtplib.SMTP_SSL('smtp.gmail.com', 465) as smtp:\n",
    "    smtp.login(EMAIL_ADDRESS, EMAIL_PASSWORD) \n",
    "    smtp.send_message(msg)\n",
    "    #smtp.sendmail(sender_email, receiver_email, msg.as_string())"
   ]
  }
 ],
 "metadata": {
  "kernelspec": {
   "display_name": "Python 3",
   "language": "python",
   "name": "python3"
  },
  "language_info": {
   "codemirror_mode": {
    "name": "ipython",
    "version": 3
   },
   "file_extension": ".py",
   "mimetype": "text/x-python",
   "name": "python",
   "nbconvert_exporter": "python",
   "pygments_lexer": "ipython3",
   "version": "3.7.6"
  }
 },
 "nbformat": 4,
 "nbformat_minor": 4
}
