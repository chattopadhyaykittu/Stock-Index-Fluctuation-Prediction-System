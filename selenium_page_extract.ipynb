{
 "cells": [
  {
   "cell_type": "code",
   "execution_count": 1,
   "metadata": {},
   "outputs": [],
   "source": [
    "import os\n",
    "from selenium import webdriver\n",
    "from selenium.webdriver.common.keys import Keys\n",
    "import time"
   ]
  },
  {
   "cell_type": "code",
   "execution_count": 2,
   "metadata": {},
   "outputs": [],
   "source": [
    "from datetime import date, datetime, timedelta\n",
    "\n",
    "today = date.today()\n"
   ]
  },
  {
   "cell_type": "code",
   "execution_count": 3,
   "metadata": {},
   "outputs": [
    {
     "name": "stderr",
     "output_type": "stream",
     "text": [
      "C:\\Users\\sreer\\anaconda3\\lib\\site-packages\\ipykernel_launcher.py:7: DeprecationWarning: executable_path has been deprecated, please pass in a Service object\n",
      "  import sys\n"
     ]
    }
   ],
   "source": [
    "import time\n",
    "\n",
    "from selenium import webdriver\n",
    "from selenium.webdriver.common.keys import Keys\n",
    "\n",
    "\n",
    "browser = webdriver.Chrome(executable_path=r\"C:\\Users\\sreer\\Big data project\\chromeDriver\\chromedriver.exe\")\n",
    "\n",
    "browser.get(\"https://www.cnbctv18.com/market/stocks/\")\n",
    "time.sleep(1)\n",
    "\n",
    "# elem = browser.find_element_by_tag_name(\"body\")\n",
    "\n",
    "# no_of_pagedowns = 20\n",
    "\n",
    "# while no_of_pagedowns:\n",
    "#     elem.send_keys(Keys.PAGE_DOWN)\n",
    "#     time.sleep(0.2)\n",
    "#     no_of_pagedowns-=1\n",
    "\n",
    "# post_elems = browser.find_elements_by_class_name(\"jsx-3979883281\")\n",
    "\n",
    "# for post in post_elems:\n",
    "#     print(post.text)\n",
    "# file = open('todayNews.html', 'w')\n",
    "# file.write(post_elems)\n",
    "# file.close()\n",
    "\n",
    "\n",
    "ScrollNumber = 20\n",
    "for i in range(1,ScrollNumber):\n",
    "    browser.execute_script(\"window.scrollTo(1,50000)\")\n",
    "    time.sleep(5)\n",
    "\n",
    "file = open('headlines_{}.html'.format(today), 'w')\n",
    "file.write(browser.page_source)\n",
    "file.close()\n",
    "\n",
    "browser.close()"
   ]
  }
 ],
 "metadata": {
  "kernelspec": {
   "display_name": "Python 3",
   "language": "python",
   "name": "python3"
  },
  "language_info": {
   "codemirror_mode": {
    "name": "ipython",
    "version": 3
   },
   "file_extension": ".py",
   "mimetype": "text/x-python",
   "name": "python",
   "nbconvert_exporter": "python",
   "pygments_lexer": "ipython3",
   "version": "3.7.6"
  }
 },
 "nbformat": 4,
 "nbformat_minor": 4
}
